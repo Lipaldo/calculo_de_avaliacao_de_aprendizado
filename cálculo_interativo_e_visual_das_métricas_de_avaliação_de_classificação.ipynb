{
  "nbformat": 4,
  "nbformat_minor": 0,
  "metadata": {
    "colab": {
      "provenance": []
    },
    "kernelspec": {
      "name": "python3",
      "display_name": "Python 3"
    },
    "language_info": {
      "name": "python"
    }
  },
  "cells": [
    {
      "cell_type": "markdown",
      "metadata": {
        "id": "3fe7fff9"
      },
      "source": [
        "# 🧠 Projeto: Cálculo Interativo e Visual de Métricas de Avaliação\n",
        "\n",
        "## 🎯 Objetivo\n",
        "\n",
        "Neste projeto, você aprenderá a calcular e interpretar as principais **métricas de avaliação de modelos de classificação**.\n",
        "Essas métricas são baseadas nos valores da **matriz de confusão**, que resume os acertos e erros de um modelo.\n",
        "\n",
        "---\n",
        "\n",
        "## 📊 Matriz de Confusão\n",
        "\n",
        "A matriz de confusão contém quatro valores principais:\n",
        "\n",
        "|                   | **Predição Positiva** | **Predição Negativa** |\n",
        "|-------------------|----------------------|------------------------|\n",
        "| **Classe Positiva** | VP (Verdadeiros Positivos) | FN (Falsos Negativos) |\n",
        "| **Classe Negativa** | FP (Falsos Positivos) | VN (Verdadeiros Negativos) |\n",
        "\n",
        "---\n",
        "\n",
        "## 📈 Métricas Calculadas\n",
        "\n",
        "| Métrica | Fórmula | Interpretação |\n",
        "|----------|----------|---------------|\n",
        "| **Acurácia** | (VP + VN) / (VP + VN + FP + FN) | Proporção total de acertos do modelo. |\n",
        "| **Precisão** | VP / (VP + FP) | Quantas das predições positivas realmente são positivas. |\n",
        "| **Recall (Sensibilidade)** | VP / (VP + FN) | Capacidade do modelo de identificar corretamente os positivos. |\n",
        "| **Especificidade** | VN / (VN + FP) | Capacidade do modelo de identificar corretamente os negativos. |\n",
        "| **F-Score (F1)** | 2 × (Precisão × Recall) / (Precisão + Recall) | Equilíbrio entre Precisão e Recall. |\n",
        "\n",
        "---\n",
        "\n",
        "## 🧩 Etapas do Projeto\n",
        "\n",
        "1. Inserir os valores da matriz de confusão (VP, VN, FP, FN).\n",
        "2. Calcular automaticamente todas as métricas.\n",
        "3. Exibir uma tabela com os resultados e descrições.\n",
        "4. Interpretar os resultados de forma textual.\n",
        "5. Visualizar os valores em um gráfico de barras.\n",
        "\n",
        "---\n",
        "\n",
        "## ✅ Objetivo Educacional\n",
        "\n",
        "Com este exercício, você compreenderá:\n",
        "- O **significado prático** de cada métrica.\n",
        "- Como diferentes erros (FP, FN) afetam o desempenho.\n",
        "- A importância de usar múltiplas métricas para avaliar modelos de aprendizado de máquina.\n",
        "\n",
        "---"
      ]
    },
    {
      "cell_type": "code",
      "source": [
        "# ================================================\n",
        "# 🧠 Projeto: Cálculo Interativo e Visual de Métricas de Avaliação\n",
        "# Autor: Felipe Maciel\n",
        "# Ambiente: Google Colab\n",
        "# ================================================\n",
        "\n",
        "# Instalação opcional da biblioteca tabulate (para exibir tabelas bonitas)\n",
        "!pip install tabulate -q\n",
        "\n",
        "import matplotlib.pyplot as plt\n",
        "from tabulate import tabulate\n",
        "\n",
        "# =====================================================\n",
        "# 🔹 Etapa 1 - Entrada dos valores da Matriz de Confusão\n",
        "# =====================================================\n",
        "\n",
        "print(\"📊 Digite os valores da Matriz de Confusão\\n\")\n",
        "\n",
        "VP = int(input(\"Verdadeiros Positivos (VP): \"))\n",
        "VN = int(input(\"Verdadeiros Negativos (VN): \"))\n",
        "FP = int(input(\"Falsos Positivos (FP): \"))\n",
        "FN = int(input(\"Falsos Negativos (FN): \"))\n",
        "\n",
        "# Exibe a matriz formatada\n",
        "matriz = [[\"\", \"Predição Positiva\", \"Predição Negativa\"],\n",
        "          [\"Classe Positiva\", f\"VP = {VP}\", f\"FN = {FN}\"],\n",
        "          [\"Classe Negativa\", f\"FP = {FP}\", f\"VN = {VN}\"]]\n",
        "\n",
        "print(\"\\n📊 Matriz de Confusão:\")\n",
        "print(tabulate(matriz, tablefmt=\"grid\"))\n"
      ],
      "metadata": {
        "colab": {
          "base_uri": "https://localhost:8080/"
        },
        "id": "A5aCASsLxEBD",
        "outputId": "40529b8f-c2c0-4c60-b2cf-fc5fa1b3066a"
      },
      "execution_count": 4,
      "outputs": [
        {
          "output_type": "stream",
          "name": "stdout",
          "text": [
            "📊 Digite os valores da Matriz de Confusão\n",
            "\n",
            "Verdadeiros Positivos (VP): 50\n",
            "Verdadeiros Negativos (VN): 23\n",
            "Falsos Positivos (FP): 24\n",
            "Falsos Negativos (FN): 57\n",
            "\n",
            "📊 Matriz de Confusão:\n",
            "+-----------------+-------------------+-------------------+\n",
            "|                 | Predição Positiva | Predição Negativa |\n",
            "+-----------------+-------------------+-------------------+\n",
            "| Classe Positiva | VP = 50           | FN = 57           |\n",
            "+-----------------+-------------------+-------------------+\n",
            "| Classe Negativa | FP = 24           | VN = 23           |\n",
            "+-----------------+-------------------+-------------------+\n"
          ]
        }
      ]
    },
    {
      "cell_type": "code",
      "source": [
        "# =====================================================\n",
        "# 🔹 Etapa 2 - Funções para cálculo das métricas\n",
        "# =====================================================\n",
        "\n",
        "def acuracia(VP, VN, FP, FN):\n",
        "    return (VP + VN) / (VP + VN + FP + FN)\n",
        "\n",
        "def precisao(VP, FP):\n",
        "    return VP / (VP + FP) if (VP + FP) > 0 else 0\n",
        "\n",
        "def recall(VP, FN):\n",
        "    return VP / (VP + FN) if (VP + FN) > 0 else 0\n",
        "\n",
        "def especificidade(VN, FP):\n",
        "    return VN / (VN + FP) if (VN + FP) > 0 else 0\n",
        "\n",
        "def f_score(precisao, recall):\n",
        "    return 2 * (precisao * recall) / (precisao + recall) if (precisao + recall) > 0 else 0\n"
      ],
      "metadata": {
        "id": "G9FnC3UAxFR3"
      },
      "execution_count": 5,
      "outputs": []
    },
    {
      "cell_type": "code",
      "source": [
        "# =====================================================\n",
        "# 🔹 Etapa 3 - Cálculo e exibição dos resultados\n",
        "# =====================================================\n",
        "\n",
        "# Cálculo das métricas\n",
        "acc = acuracia(VP, VN, FP, FN)\n",
        "prec = precisao(VP, FP)\n",
        "rec = recall(VP, FN)\n",
        "esp = especificidade(VN, FP)\n",
        "f1 = f_score(prec, rec)\n",
        "\n",
        "# Exibe tabela\n",
        "tabela_resultados = [\n",
        "    [\"Acurácia\", f\"{acc:.4f}\", \"Proporção total de acertos\"],\n",
        "    [\"Precisão\", f\"{prec:.4f}\", \"Predições positivas corretas\"],\n",
        "    [\"Recall (Sensibilidade)\", f\"{rec:.4f}\", \"Capacidade de identificar positivos\"],\n",
        "    [\"Especificidade\", f\"{esp:.4f}\", \"Capacidade de identificar negativos\"],\n",
        "    [\"F-Score\", f\"{f1:.4f}\", \"Equilíbrio entre precisão e recall\"]\n",
        "]\n",
        "\n",
        "print(\"\\n📈 Resultados das Métricas:\\n\")\n",
        "print(tabulate(tabela_resultados, headers=[\"Métrica\", \"Valor\", \"Descrição\"], tablefmt=\"grid\"))\n"
      ],
      "metadata": {
        "colab": {
          "base_uri": "https://localhost:8080/"
        },
        "id": "z7HzTO-7xGLu",
        "outputId": "153ecfd1-4f68-465d-a0c8-c90bddba887b"
      },
      "execution_count": 6,
      "outputs": [
        {
          "output_type": "stream",
          "name": "stdout",
          "text": [
            "\n",
            "📈 Resultados das Métricas:\n",
            "\n",
            "+------------------------+---------+-------------------------------------+\n",
            "| Métrica                |   Valor | Descrição                           |\n",
            "+========================+=========+=====================================+\n",
            "| Acurácia               |  0.474  | Proporção total de acertos          |\n",
            "+------------------------+---------+-------------------------------------+\n",
            "| Precisão               |  0.6757 | Predições positivas corretas        |\n",
            "+------------------------+---------+-------------------------------------+\n",
            "| Recall (Sensibilidade) |  0.4673 | Capacidade de identificar positivos |\n",
            "+------------------------+---------+-------------------------------------+\n",
            "| Especificidade         |  0.4894 | Capacidade de identificar negativos |\n",
            "+------------------------+---------+-------------------------------------+\n",
            "| F-Score                |  0.5525 | Equilíbrio entre precisão e recall  |\n",
            "+------------------------+---------+-------------------------------------+\n"
          ]
        }
      ]
    },
    {
      "cell_type": "code",
      "source": [
        "# =====================================================\n",
        "# 🔹 Etapa 4 - Interpretação dos resultados\n",
        "# =====================================================\n",
        "\n",
        "print(\"\\n🧾 Interpretação dos resultados:\")\n",
        "\n",
        "if acc > 0.9:\n",
        "    print(f\"- O modelo apresenta excelente acurácia ({acc:.2%}).\")\n",
        "elif acc > 0.7:\n",
        "    print(f\"- O modelo tem uma acurácia satisfatória ({acc:.2%}).\")\n",
        "else:\n",
        "    print(f\"- A acurácia do modelo é baixa ({acc:.2%}), indicando espaço para melhoria.\")\n",
        "\n",
        "if prec > rec:\n",
        "    print(f\"- A precisão ({prec:.2%}) é maior que o recall ({rec:.2%}), sugerindo que o modelo evita falsos positivos, mas pode perder verdadeiros positivos.\")\n",
        "elif rec > prec:\n",
        "    print(f\"- O recall ({rec:.2%}) é maior que a precisão ({prec:.2%}), indicando que o modelo detecta bem positivos, mas com mais falsos alarmes.\")\n",
        "else:\n",
        "    print(f\"- O modelo está equilibrado entre precisão e recall ({prec:.2%} / {rec:.2%}).\")\n",
        "\n",
        "print(f\"- O F-Score ({f1:.2%}) resume o equilíbrio geral entre precisão e recall.\")\n",
        "print(f\"- A especificidade ({esp:.2%}) mostra o quão bem o modelo identifica corretamente os negativos.\")\n"
      ],
      "metadata": {
        "colab": {
          "base_uri": "https://localhost:8080/"
        },
        "id": "472wZlIvxHZE",
        "outputId": "510d3923-00a7-4a11-c2cf-e241f874cb63"
      },
      "execution_count": 7,
      "outputs": [
        {
          "output_type": "stream",
          "name": "stdout",
          "text": [
            "\n",
            "🧾 Interpretação dos resultados:\n",
            "- A acurácia do modelo é baixa (47.40%), indicando espaço para melhoria.\n",
            "- A precisão (67.57%) é maior que o recall (46.73%), sugerindo que o modelo evita falsos positivos, mas pode perder verdadeiros positivos.\n",
            "- O F-Score (55.25%) resume o equilíbrio geral entre precisão e recall.\n",
            "- A especificidade (48.94%) mostra o quão bem o modelo identifica corretamente os negativos.\n"
          ]
        }
      ]
    },
    {
      "cell_type": "code",
      "source": [
        "# =====================================================\n",
        "# 🔹 Etapa 5 - Visualização Gráfica\n",
        "# =====================================================\n",
        "\n",
        "# Dados para o gráfico\n",
        "metricas = [\"Acurácia\", \"Precisão\", \"Recall\", \"Especificidade\", \"F-Score\"]\n",
        "valores = [acc, prec, rec, esp, f1]\n",
        "\n",
        "# Criação do gráfico de barras\n",
        "plt.figure(figsize=(8, 5))\n",
        "plt.bar(metricas, valores, color=[\"#4caf50\", \"#2196f3\", \"#ff9800\", \"#9c27b0\", \"#e91e63\"])\n",
        "plt.ylim(0, 1)\n",
        "plt.title(\"📊 Comparativo das Métricas de Avaliação\", fontsize=14, pad=15)\n",
        "plt.ylabel(\"Valor (0 a 1)\")\n",
        "plt.grid(axis=\"y\", linestyle=\"--\", alpha=0.7)\n",
        "\n",
        "# Adiciona os valores no topo das barras\n",
        "for i, valor in enumerate(valores):\n",
        "    plt.text(i, valor + 0.02, f\"{valor:.2f}\", ha=\"center\", fontsize=10, fontweight=\"bold\")\n",
        "\n",
        "plt.show()\n"
      ],
      "metadata": {
        "colab": {
          "base_uri": "https://localhost:8080/",
          "height": 537
        },
        "id": "GfZTJbK-xIqC",
        "outputId": "2f01516b-bda0-4272-eda6-0458117516ef"
      },
      "execution_count": 8,
      "outputs": [
        {
          "output_type": "stream",
          "name": "stderr",
          "text": [
            "/usr/local/lib/python3.12/dist-packages/IPython/core/pylabtools.py:151: UserWarning: Glyph 128202 (\\N{BAR CHART}) missing from font(s) DejaVu Sans.\n",
            "  fig.canvas.print_figure(bytes_io, **kw)\n"
          ]
        },
        {
          "output_type": "display_data",
          "data": {
            "text/plain": [
              "<Figure size 800x500 with 1 Axes>"
            ],
            "image/png": "[encoded data removed]"
          },
          "metadata": {}
        }
      ]
    }
  ]
}